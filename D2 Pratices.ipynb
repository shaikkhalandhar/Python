{
 "cells": [
  {
   "cell_type": "code",
   "execution_count": 31,
   "id": "356c3256-4580-4d6d-af70-c151e82445b2",
   "metadata": {},
   "outputs": [
    {
     "name": "stdout",
     "output_type": "stream",
     "text": [
      "Hello Khalandhar\n"
     ]
    }
   ],
   "source": [
    "print(\"Hello Khalandhar\")"
   ]
  },
  {
   "cell_type": "code",
   "execution_count": 43,
   "id": "3f937b43-3a59-4024-b1d0-bd5510d830da",
   "metadata": {},
   "outputs": [
    {
     "name": "stdout",
     "output_type": "stream",
     "text": [
      "5\n",
      "2\n",
      "ShaikDadaKhalandhar\n",
      "2.5\n",
      "7\n",
      "3\n",
      "<class 'int'>\n",
      "<class 'int'>\n",
      "<class 'str'>\n",
      "<class 'str'>\n",
      "<class 'float'>\n",
      "<class 'str'>\n",
      "2\n",
      "10\n",
      "<class 'int'>\n",
      "<class 'int'>\n"
     ]
    },
    {
     "ename": "TypeError",
     "evalue": "unsupported operand type(s) for +: 'int' and 'str'",
     "output_type": "error",
     "traceback": [
      "\u001b[1;31m---------------------------------------------------------------------------\u001b[0m",
      "\u001b[1;31mTypeError\u001b[0m                                 Traceback (most recent call last)",
      "Cell \u001b[1;32mIn[43], line 33\u001b[0m\n\u001b[0;32m     31\u001b[0m \u001b[38;5;28mprint\u001b[39m(\u001b[38;5;28mtype\u001b[39m(i))\n\u001b[0;32m     32\u001b[0m \u001b[38;5;28mprint\u001b[39m(\u001b[38;5;28mtype\u001b[39m(j))\n\u001b[1;32m---> 33\u001b[0m \u001b[38;5;28mprint\u001b[39m(\u001b[38;5;28mtype\u001b[39m(a\u001b[38;5;241m+\u001b[39mc1)) \u001b[38;5;66;03m# we cant print both int + str at onetime\u001b[39;00m\n\u001b[0;32m     34\u001b[0m \u001b[38;5;28mprint\u001b[39m(m)\n",
      "\u001b[1;31mTypeError\u001b[0m: unsupported operand type(s) for +: 'int' and 'str'"
     ]
    }
   ],
   "source": [
    "#valid Variables\n",
    "a=5 #its a valid variaable\n",
    "_b=2 #its a valid variabale \n",
    "c1=\"Shaik\" #its a valid vairable\n",
    "_1d=\"Dada\" #its a valid variable\n",
    "_e1=\"Khalandhar\" #its avalid variable\n",
    "f=2.5 #its a valid vairable\n",
    "g=a+_b\n",
    "h=a-_b\n",
    "i=a//_b\n",
    "j=a*2\n",
    "\n",
    "\n",
    "#below are the results \n",
    "print(a)\n",
    "print(_b)\n",
    "print(c1+_1d+_e1)\n",
    "print(f)\n",
    "print(g)\n",
    "print(h)\n",
    "print(type(a))\n",
    "print(type(_b))\n",
    "print(type(c1))\n",
    "print(type(_1d))\n",
    "print(type(f))\n",
    "print(type(c1+_1d+_e1))\n",
    "print(i)\n",
    "print(j)\n",
    "print(type(i))\n",
    "print(type(j))\n",
    "print(type(a+c1)) # we cant print both int + str at onetime"
   ]
  },
  {
   "cell_type": "code",
   "execution_count": 45,
   "id": "a9e52500-901d-4f1d-94df-cf7b1447f5f8",
   "metadata": {},
   "outputs": [
    {
     "name": "stdout",
     "output_type": "stream",
     "text": [
      "(4+3j)\n",
      "<class 'complex'>\n"
     ]
    }
   ],
   "source": [
    "#complex numbers 1test\n",
    "k=4-2j\n",
    "l=5j\n",
    "m=k+l\n",
    "print(m)\n",
    "print(type(m))"
   ]
  },
  {
   "cell_type": "code",
   "execution_count": 47,
   "id": "18c0a402-7e90-4a31-a943-13030bb288ca",
   "metadata": {},
   "outputs": [
    {
     "name": "stdout",
     "output_type": "stream",
     "text": [
      "(3+10j)\n",
      "<class 'complex'>\n"
     ]
    }
   ],
   "source": [
    "#complex numbers 2nd test\n",
    "o=10j-5\n",
    "p=8\n",
    "q=o+p # complex number treated as separatly and int treated separatly\n",
    "print(q)\n",
    "print(type(q))"
   ]
  },
  {
   "cell_type": "code",
   "execution_count": 49,
   "id": "70548e97-d777-4a34-be2a-286de10cb137",
   "metadata": {},
   "outputs": [
    {
     "name": "stdout",
     "output_type": "stream",
     "text": [
      "(0.5+0j)\n",
      "<class 'complex'>\n"
     ]
    }
   ],
   "source": [
    "#complex division\n",
    "r=15j-5\n",
    "s=30j-10\n",
    "t=r/s\n",
    "print(t)\n",
    "print(type(t))"
   ]
  },
  {
   "cell_type": "code",
   "execution_count": 5,
   "id": "6a7446e0-b1dd-4fa7-b047-1d006ec41f8c",
   "metadata": {},
   "outputs": [
    {
     "name": "stdout",
     "output_type": "stream",
     "text": [
      "60.0\n",
      "15\n",
      "<class 'float'>\n",
      "<class 'int'>\n"
     ]
    }
   ],
   "source": [
    "#converting\n",
    "u=60 #int\n",
    "v=15.5 #float\n",
    "w=4+6j #complex\n",
    "\n",
    "#converting int to float\n",
    "z=float(u)\n",
    "#converting float to int\n",
    "A1=int(v)\n",
    "\n",
    "#trying to print result\n",
    "print(z)\n",
    "print(A1)\n",
    "print(type(z))\n",
    "print(type(A1))"
   ]
  },
  {
   "cell_type": "code",
   "execution_count": 7,
   "id": "919caeae-6c41-41f2-bc7d-5b263b5ff137",
   "metadata": {},
   "outputs": [
    {
     "ename": "TypeError",
     "evalue": "float() argument must be a string or a real number, not 'complex'",
     "output_type": "error",
     "traceback": [
      "\u001b[1;31m---------------------------------------------------------------------------\u001b[0m",
      "\u001b[1;31mTypeError\u001b[0m                                 Traceback (most recent call last)",
      "Cell \u001b[1;32mIn[7], line 2\u001b[0m\n\u001b[0;32m      1\u001b[0m \u001b[38;5;66;03m#converting complex\u001b[39;00m\n\u001b[1;32m----> 2\u001b[0m B1\u001b[38;5;241m=\u001b[39m\u001b[38;5;28mfloat\u001b[39m(w)\n\u001b[0;32m      3\u001b[0m \u001b[38;5;28mprint\u001b[39m(B1)\n",
      "\u001b[1;31mTypeError\u001b[0m: float() argument must be a string or a real number, not 'complex'"
     ]
    }
   ],
   "source": [
    "#converting complex\n",
    "B1=float(w)\n",
    "print(B1)"
   ]
  },
  {
   "cell_type": "code",
   "execution_count": 8,
   "id": "77910f57-19e3-4904-b76e-e9d8ca042617",
   "metadata": {},
   "outputs": [
    {
     "ename": "SyntaxError",
     "evalue": "invalid decimal literal (2458914244.py, line 2)",
     "output_type": "error",
     "traceback": [
      "\u001b[1;36m  Cell \u001b[1;32mIn[8], line 2\u001b[1;36m\u001b[0m\n\u001b[1;33m    1z=123\u001b[0m\n\u001b[1;37m    ^\u001b[0m\n\u001b[1;31mSyntaxError\u001b[0m\u001b[1;31m:\u001b[0m invalid decimal literal\n"
     ]
    }
   ],
   "source": [
    "#invalid variables\n",
    "1z=123\n",
    "print(1z)"
   ]
  },
  {
   "cell_type": "code",
   "execution_count": 9,
   "id": "18fb9169-8a95-4938-9e01-10738eb7d606",
   "metadata": {},
   "outputs": [
    {
     "name": "stdout",
     "output_type": "stream",
     "text": [
      "123\n"
     ]
    }
   ],
   "source": [
    "z1=123\n",
    "print(z1)"
   ]
  },
  {
   "cell_type": "code",
   "execution_count": 10,
   "id": "67ff6960-b5e5-4d3e-955f-2f326da84eed",
   "metadata": {},
   "outputs": [],
   "source": [
    "#valid variable\n",
    "z_1=456"
   ]
  },
  {
   "cell_type": "code",
   "execution_count": 26,
   "id": "c4c14c95-fed6-454b-8590-11f1f4862261",
   "metadata": {},
   "outputs": [
    {
     "name": "stdout",
     "output_type": "stream",
     "text": [
      "456\n",
      "<class 'int'>\n",
      "456.0\n",
      "<class 'float'>\n"
     ]
    }
   ],
   "source": [
    "print(z_1)\n",
    "print(type(z_1))\n",
    "\n",
    "#changng int to float\n",
    "AAA=float(z_1)\n",
    "print(AAA)\n",
    "print(type(AAA))"
   ]
  },
  {
   "cell_type": "code",
   "execution_count": 19,
   "id": "456336d2-703e-4894-a865-51a38732c182",
   "metadata": {},
   "outputs": [
    {
     "name": "stdout",
     "output_type": "stream",
     "text": [
      "['False', 'None', 'True', 'and', 'as', 'assert', 'async', 'await', 'break', 'class', 'continue', 'def', 'del', 'elif', 'else', 'except', 'finally', 'for', 'from', 'global', 'if', 'import', 'in', 'is', 'lambda', 'nonlocal', 'not', 'or', 'pass', 'raise', 'return', 'try', 'while', 'with', 'yield']\n"
     ]
    },
    {
     "data": {
      "text/plain": [
       "35"
      ]
     },
     "execution_count": 19,
     "metadata": {},
     "output_type": "execute_result"
    }
   ],
   "source": [
    "import keyword\n",
    "python_keywords=keyword.kwlist\n",
    "print(python_keywords)\n",
    "len(python_keywords)"
   ]
  },
  {
   "cell_type": "code",
   "execution_count": 23,
   "id": "9847d7f1-4b77-4d7f-83e1-16be9d9afe3c",
   "metadata": {},
   "outputs": [
    {
     "name": "stdout",
     "output_type": "stream",
     "text": [
      "python version: 3.11.7 | packaged by Anaconda, Inc. | (main, Dec 15 2023, 18:05:47) [MSC v.1916 64 bit (AMD64)]\n"
     ]
    }
   ],
   "source": [
    "import sys\n",
    "print(\"python version:\",sys.version)"
   ]
  },
  {
   "cell_type": "code",
   "execution_count": 28,
   "id": "c8882018-4f77-4abf-b1eb-c20c3a0d24a8",
   "metadata": {},
   "outputs": [
    {
     "name": "stdout",
     "output_type": "stream",
     "text": [
      "<class 'complex'>\n"
     ]
    }
   ],
   "source": [
    "BB=1j\n",
    "print(type(BB))"
   ]
  },
  {
   "cell_type": "code",
   "execution_count": 29,
   "id": "36cbee95-a41b-4fab-b362-f0277acba37c",
   "metadata": {},
   "outputs": [
    {
     "ename": "TypeError",
     "evalue": "int() argument must be a string, a bytes-like object or a real number, not 'complex'",
     "output_type": "error",
     "traceback": [
      "\u001b[1;31m---------------------------------------------------------------------------\u001b[0m",
      "\u001b[1;31mTypeError\u001b[0m                                 Traceback (most recent call last)",
      "Cell \u001b[1;32mIn[29], line 2\u001b[0m\n\u001b[0;32m      1\u001b[0m \u001b[38;5;66;03m#convert complex to int\u001b[39;00m\n\u001b[1;32m----> 2\u001b[0m CC\u001b[38;5;241m=\u001b[39m\u001b[38;5;28mint\u001b[39m(BB)\n\u001b[0;32m      3\u001b[0m \u001b[38;5;28mprint\u001b[39m(\u001b[38;5;28mtype\u001b[39m(CC))\n",
      "\u001b[1;31mTypeError\u001b[0m: int() argument must be a string, a bytes-like object or a real number, not 'complex'"
     ]
    }
   ],
   "source": [
    "#convert complex to int\n",
    "CC=int(BB)\n",
    "print(type(CC))"
   ]
  },
  {
   "cell_type": "code",
   "execution_count": 30,
   "id": "bec16d64-18cc-4e1a-b1dd-0b6abb5ecb5a",
   "metadata": {},
   "outputs": [
    {
     "name": "stdout",
     "output_type": "stream",
     "text": [
      "(55+0j)\n",
      "<class 'complex'>\n"
     ]
    }
   ],
   "source": [
    "DD=55\n",
    "EE=complex(DD)\n",
    "print(EE)\n",
    "print(type(EE))"
   ]
  },
  {
   "cell_type": "code",
   "execution_count": 33,
   "id": "227eff5c-15fb-4e53-bd1c-4f6e5554e344",
   "metadata": {},
   "outputs": [
    {
     "name": "stdout",
     "output_type": "stream",
     "text": [
      "False\n",
      "True\n",
      "True\n"
     ]
    }
   ],
   "source": [
    "#checking on Boolens\n",
    "print (10<5)\n",
    "print (55==55)\n",
    "print (100>99)"
   ]
  },
  {
   "cell_type": "code",
   "execution_count": 35,
   "id": "20fc8b48-ea8c-4011-ad9e-e71ec81501f3",
   "metadata": {},
   "outputs": [
    {
     "ename": "TypeError",
     "evalue": "can only concatenate str (not \"int\") to str",
     "output_type": "error",
     "traceback": [
      "\u001b[1;31m---------------------------------------------------------------------------\u001b[0m",
      "\u001b[1;31mTypeError\u001b[0m                                 Traceback (most recent call last)",
      "Cell \u001b[1;32mIn[35], line 3\u001b[0m\n\u001b[0;32m      1\u001b[0m FF\u001b[38;5;241m=\u001b[39m\u001b[38;5;124m\"\u001b[39m\u001b[38;5;124mDada\u001b[39m\u001b[38;5;124m\"\u001b[39m\n\u001b[0;32m      2\u001b[0m GG\u001b[38;5;241m=\u001b[39m\u001b[38;5;241m555\u001b[39m\n\u001b[1;32m----> 3\u001b[0m \u001b[38;5;28mprint\u001b[39m(FF\u001b[38;5;241m+\u001b[39mGG)\n",
      "\u001b[1;31mTypeError\u001b[0m: can only concatenate str (not \"int\") to str"
     ]
    }
   ],
   "source": [
    "FF=\"Dada\"\n",
    "GG=555\n",
    "print(FF+GG)"
   ]
  },
  {
   "cell_type": "code",
   "execution_count": null,
   "id": "fe4ae53b-199d-43ee-8d52-3c53bbc3e615",
   "metadata": {},
   "outputs": [],
   "source": []
  }
 ],
 "metadata": {
  "kernelspec": {
   "display_name": "Python 3 (ipykernel)",
   "language": "python",
   "name": "python3"
  },
  "language_info": {
   "codemirror_mode": {
    "name": "ipython",
    "version": 3
   },
   "file_extension": ".py",
   "mimetype": "text/x-python",
   "name": "python",
   "nbconvert_exporter": "python",
   "pygments_lexer": "ipython3",
   "version": "3.11.7"
  }
 },
 "nbformat": 4,
 "nbformat_minor": 5
}
